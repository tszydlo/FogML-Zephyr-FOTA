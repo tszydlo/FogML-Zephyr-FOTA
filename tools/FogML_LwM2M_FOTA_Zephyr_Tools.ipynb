{
  "cells": [
    {
      "cell_type": "markdown",
      "source": [
        "# **FogML Time Series Data Classification For MCU**"
      ],
      "metadata": {
        "id": "vJ_797DoXFj2"
      }
    },
    {
      "cell_type": "markdown",
      "source": [
        "## FogML installation"
      ],
      "metadata": {
        "id": "1AFceIvEzoqB"
      }
    },
    {
      "cell_type": "code",
      "execution_count": 2,
      "metadata": {
        "colab": {
          "base_uri": "https://localhost:8080/"
        },
        "id": "ZC5jiXiTgsYV",
        "outputId": "0d8b1896-dc45-4f3a-f07b-b466033c973d"
      },
      "outputs": [
        {
          "output_type": "stream",
          "name": "stdout",
          "text": [
            "Looking in indexes: https://pypi.org/simple, https://us-python.pkg.dev/colab-wheels/public/simple/\n",
            "Requirement already satisfied: fogml in /usr/local/lib/python3.8/dist-packages (0.0.7)\n"
          ]
        }
      ],
      "source": [
        "!pip install fogml"
      ]
    },
    {
      "cell_type": "code",
      "execution_count": 3,
      "metadata": {
        "id": "0i0v8FX3g91Q"
      },
      "outputs": [],
      "source": [
        "from sklearn.ensemble import RandomForestClassifier\n",
        "from sklearn.datasets import make_classification\n",
        "\n",
        "import pandas as pd\n",
        "import numpy as np\n",
        "import matplotlib.pyplot as plt\n",
        "\n",
        "from fogml.generators import GeneratorFactory"
      ]
    },
    {
      "cell_type": "markdown",
      "source": [
        "## Data preparation"
      ],
      "metadata": {
        "id": "legsXf2p0YSu"
      }
    },
    {
      "cell_type": "markdown",
      "source": [
        "In the example application for MCU, set `#define DATA_LOGGER` and collect data for various gestures/speeds/etc."
      ],
      "metadata": {
        "id": "cRhrv8uV0L52"
      }
    },
    {
      "cell_type": "code",
      "source": [
        "#Model 1\n",
        "DATA = [\"0_idle.csv\", \"1_circle.csv\", \"2_snake.csv\"]\n",
        "LABELS = [\"IDLE\", \"CIRCLE\", \"SNAKE\"]\n",
        "MODEL_VERSION = 1\n",
        "\n",
        "#Model 2\n",
        "#DATA = [\"0_idle.csv\", \"1_circle.csv\", \"2_snake.csv\", \"3_up_down.csv\"]\n",
        "#LABELS = [\"IDLE\", \"CIRCLE\", \"SNAKE\", \"UP DOWN\"]\n",
        "#MODEL_VERSION = 2"
      ],
      "metadata": {
        "id": "-YAxSmalzVy_"
      },
      "execution_count": 11,
      "outputs": []
    },
    {
      "cell_type": "markdown",
      "source": [
        "## Random forrest model training"
      ],
      "metadata": {
        "id": "85DLeLCyXUyF"
      }
    },
    {
      "cell_type": "code",
      "source": [
        "spX_t = []\n",
        "spY_t = []\n",
        "\n",
        "i = 0\n",
        "for fname in DATA:\n",
        "  tmp = pd.read_csv(fname, delimiter=\" \", header=None)\n",
        "  spX_t.append(tmp)\n",
        "  spY_t.append([i] * tmp.shape[0])\n",
        "  i = i + 1\n",
        "\n",
        "spX = np.concatenate( spX_t, axis = 0 )\n",
        "spY = np.concatenate( spY_t, axis = 0 )\n",
        "\n",
        "print(spX.shape)\n",
        "print(spY.shape)"
      ],
      "metadata": {
        "colab": {
          "base_uri": "https://localhost:8080/"
        },
        "id": "C0PEobsNv_wp",
        "outputId": "92bc1a6d-55f3-43ed-da2a-28cfd449bc11"
      },
      "execution_count": 5,
      "outputs": [
        {
          "output_type": "stream",
          "name": "stdout",
          "text": [
            "(80, 12)\n",
            "(80,)\n"
          ]
        }
      ]
    },
    {
      "cell_type": "code",
      "execution_count": 6,
      "metadata": {
        "id": "AGwuKgYEg34S",
        "colab": {
          "base_uri": "https://localhost:8080/"
        },
        "outputId": "c0987f61-8b35-4367-ca4b-2f88701c368d"
      },
      "outputs": [
        {
          "output_type": "stream",
          "name": "stdout",
          "text": [
            "accuracy:  1.0\n"
          ]
        }
      ],
      "source": [
        "clf = RandomForestClassifier(max_depth=3, random_state=0)\n",
        "clf.fit(spX, spY)\n",
        "print( 'accuracy: ',clf.score(spX,spY))"
      ]
    },
    {
      "cell_type": "markdown",
      "source": [
        "# FogML Classifier Generation"
      ],
      "metadata": {
        "id": "GiO6uEG9W1TE"
      }
    },
    {
      "cell_type": "code",
      "source": [
        "factory = GeneratorFactory()\n",
        "generator = factory.get_generator(clf)\n",
        "generator.generate()"
      ],
      "metadata": {
        "id": "7PCqY10ipcx-"
      },
      "execution_count": 7,
      "outputs": []
    },
    {
      "cell_type": "markdown",
      "source": [
        "Copy generated `random_forrest_model.c` to the folder `fogml_generated` in the MCU project.\n"
      ],
      "metadata": {
        "id": "gCN5nxTTLwSs"
      }
    },
    {
      "cell_type": "markdown",
      "source": [
        "# FogML KMeans Anomaly Detector Generation"
      ],
      "metadata": {
        "id": "f6wWRS_UEJOm"
      }
    },
    {
      "cell_type": "code",
      "source": [
        "from sklearn.preprocessing import MinMaxScaler\n",
        "from fogml.anomaly import KMeansAnomalyDetector\n",
        "from fogml.generators import GeneratorFactory\n",
        "\n",
        "scaler = MinMaxScaler()\n",
        "transformer = scaler.fit(spX)\n",
        "data_norm = transformer.transform(spX)\n",
        "\n",
        "anomalyDetector = KMeansAnomalyDetector(n_clusters=16)\n",
        "anomalyDetector.fit(data_norm)\n",
        "\n",
        "factory = GeneratorFactory()\n",
        "generator = factory.get_generator(transformer)\n",
        "generator.generate(fname=\"min_max_scaler_model.c\")\n",
        "\n",
        "generator = factory.get_generator(anomalyDetector)\n",
        "generator.generate(fname=\"kmeans_anomaly_model.c\")"
      ],
      "metadata": {
        "id": "9Aww2z5ZEII2"
      },
      "execution_count": 8,
      "outputs": []
    },
    {
      "cell_type": "markdown",
      "source": [
        "Copy generated `kmeans_anomaly_model.c` and `min_max_scaler_model.c` to the folder `fogml_generated` in the MCU project."
      ],
      "metadata": {
        "id": "SMoAemXkFf5O"
      }
    },
    {
      "cell_type": "markdown",
      "source": [
        "# Class Labels Generation"
      ],
      "metadata": {
        "id": "Mhp7H5UfN0Lj"
      }
    },
    {
      "cell_type": "code",
      "source": [
        "labels_pattern = 'const char* FOGML_LABELS[] = {{{}}};'\n",
        "count_pattern = 'const int FOGML_LABELS_COUNT = {};'\n",
        "version_pattern = 'const int FOGML_MODEL_VERSION = {};'\n",
        "\n",
        "label = '\"' + LABELS[0] + '\"'\n",
        "\n",
        "for i in range(1,len(LABELS)):\n",
        "  label += \",\"\n",
        "  label += '\"' + LABELS[i] + '\"'\n",
        "\n",
        "print(labels_pattern.format(label))\n",
        "print(count_pattern.format(len(LABELS)))\n",
        "print(version_pattern.format(MODEL_VERSION))"
      ],
      "metadata": {
        "colab": {
          "base_uri": "https://localhost:8080/"
        },
        "id": "uhnmcyiuN6R6",
        "outputId": "f7759e0b-4b58-4a24-d518-c3a72a4ac1e3"
      },
      "execution_count": 13,
      "outputs": [
        {
          "output_type": "stream",
          "name": "stdout",
          "text": [
            "const char* FOGML_LABELS[] = {\"IDLE\",\"CIRCLE\",\"SNAKE\"};\n",
            "const int FOGML_LABELS_COUNT = 3;\n",
            "const int FOGML_MODEL_VERSION = 1;\n"
          ]
        }
      ]
    },
    {
      "cell_type": "markdown",
      "source": [
        "Copy and paste generated lines to the `fogml_config.h` file in lines below `//CLASSIFICATION` tag."
      ],
      "metadata": {
        "id": "UrBGhr1BOAIZ"
      }
    },
    {
      "cell_type": "markdown",
      "source": [
        "## Appendix - Feature Importance Analysis"
      ],
      "metadata": {
        "id": "VPOELgakJ3Gv"
      }
    },
    {
      "cell_type": "code",
      "source": [
        "DSP_BLOCKS = [\"BASE\", \"RMS\", \"CROSSINGS\"]\n",
        "\n",
        "DSP_BLOCKS_FEATURES = {\"BASE\": [\"(max-min)_X\", \"mean_X\", \"(max-min)_Y\", \"mean_Y\", \"(max-min)_Z\", \"mean_Z\"],\n",
        "              \"RMS\": [\"RMS_X\", \"RMS_Y\", \"RMS_Z\"],\n",
        "              \"CROSSINGS\": [\"CROSS_X\", \"CROSS_Y\", \"CROSS_Z\"]}\n",
        "\n",
        "feature_names = [\"(max-min)_X\", \"mean_X\", \"(max-min)_Y\", \"mean_Y\", \"(max-min)_Z\", \"mean_Z\",\n",
        "                 \"RMS_X\", \"RMS_Y\", \"RMS_Z\",\n",
        "                 \"CROSS_X\", \"CROSS_Y\", \"CROSS_Z\"]\n",
        "\n",
        "\n",
        "importances = clf.feature_importances_\n",
        "std = np.std([tree.feature_importances_ for tree in clf.estimators_], axis=0)\n",
        "\n",
        "forest_importances = pd.Series(importances, index=feature_names)\n",
        "\n",
        "fig, ax = plt.subplots()\n",
        "forest_importances.plot.bar(yerr=std, ax=ax)\n",
        "ax.set_title(\"Feature importances using MDI\")\n",
        "ax.set_ylabel(\"Mean decrease in impurity\")\n",
        "fig.tight_layout()"
      ],
      "metadata": {
        "colab": {
          "base_uri": "https://localhost:8080/",
          "height": 297
        },
        "id": "ozcNCRfDJ2T9",
        "outputId": "8a02618c-c5d9-42d7-c336-f4162c55bed5"
      },
      "execution_count": 14,
      "outputs": [
        {
          "output_type": "display_data",
          "data": {
            "text/plain": [
              "<Figure size 432x288 with 1 Axes>"
            ],
            "image/png": "[encoded data removed]"
          },
          "metadata": {
            "needs_background": "light"
          }
        }
      ]
    }
  ],
  "metadata": {
    "colab": {
      "provenance": []
    },
    "kernelspec": {
      "display_name": "Python 3",
      "name": "python3"
    },
    "language_info": {
      "name": "python"
    }
  },
  "nbformat": 4,
  "nbformat_minor": 0
}